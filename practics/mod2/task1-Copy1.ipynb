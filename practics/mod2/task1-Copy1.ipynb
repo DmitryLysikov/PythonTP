{
 "cells": [
  {
   "cell_type": "code",
   "execution_count": 2,
   "id": "657f65fc",
   "metadata": {},
   "outputs": [],
   "source": [
    "import sqlite3\n",
    "import pandas as pd\n",
    "\n",
    "connect_one = sqlite3.connect('task1.sqlite')\n",
    "connect_two = sqlite3.connect('netflix.sqlite')\n",
    "cursor_request = connect_one.cursor()\n",
    "\n",
    "movie_sql = \"\"\"SELECT netflix_titles.show_id AS id, netflix_titles.title AS name, netflix_titles.cast FROM netflix_titles;\"\"\"\n",
    "actor_sql = \"\"\"SELECT netflix_titles.cast FROM netflix_titles;\"\"\"\n",
    "\n",
    "data_movie = pd.read_sql(movie_sql, connect_two)\n",
    "data_actor = pd.read_sql(actor_sql, connect_two)"
   ]
  },
  {
   "cell_type": "code",
   "execution_count": 3,
   "id": "c32fec34",
   "metadata": {},
   "outputs": [],
   "source": [
    "with connect_one:\n",
    "    cursor_request.execute(\"\"\"\n",
    "         CREATE TABLE MOVIE (\n",
    "             ID INT NOT NULL PRIMARY KEY,\n",
    "             NAME TEXT,\n",
    "             CAST TEXT\n",
    "        );\n",
    "    \"\"\")"
   ]
  },
  {
   "cell_type": "code",
   "execution_count": 4,
   "id": "323f4ca2",
   "metadata": {},
   "outputs": [],
   "source": [
    "with connect_one:\n",
    "    cursor_request.execute(\"\"\"\n",
    "         CREATE TABLE ACTOR (\n",
    "            ID INTEGER PRIMARY KEY AUTOINCREMENT,\n",
    "            NAME TEXT\n",
    "        );\n",
    "    \"\"\")"
   ]
  },
  {
   "cell_type": "code",
   "execution_count": 5,
   "id": "8ab1841b",
   "metadata": {},
   "outputs": [],
   "source": [
    "with connect_one:\n",
    "    cursor_request.execute(\"\"\"\n",
    "         CREATE TABLE actorANDmovie (\n",
    "            ACTOR_id INT,\n",
    "            MOVIE_id INT,\n",
    "            PRIMARY KEY(ACTOR_id, MOVIE_id),\n",
    "            FOREIGN KEY(ACTOR_id) REFERENCES ACTOR(id),\n",
    "            FOREIGN KEY(MOVIE_id) REFERENCES MOVIE(id)\n",
    "        );\n",
    "    \"\"\")"
   ]
  },
  {
   "cell_type": "code",
   "execution_count": 8,
   "id": "231c32b6",
   "metadata": {},
   "outputs": [
    {
     "data": {
      "text/plain": [
       "6234"
      ]
     },
     "execution_count": 8,
     "metadata": {},
     "output_type": "execute_result"
    }
   ],
   "source": [
    "data_movie.to_sql(\"MOVIE\", con=connect_one, if_exists=\"append\", index=False)"
   ]
  },
  {
   "cell_type": "code",
   "execution_count": 9,
   "id": "0b351f8c",
   "metadata": {},
   "outputs": [],
   "source": [
    "actors = set()\n",
    "\n",
    "\n",
    "for i in data_actor.values:\n",
    "    actors_list = i[0].split(', ')\n",
    "    actors.update(actors_list)"
   ]
  },
  {
   "cell_type": "code",
   "execution_count": 10,
   "id": "6a6e96a4",
   "metadata": {},
   "outputs": [],
   "source": [
    "for actor in actors:\n",
    "    if actor != '':\n",
    "        cursor_request.execute('INSERT INTO ACTOR (name) VALUES (?)', (actor,))\n",
    "connect_one.commit()"
   ]
  },
  {
   "cell_type": "code",
   "execution_count": 12,
   "id": "73c9e87a",
   "metadata": {},
   "outputs": [],
   "source": [
    "sql_actorANDmovie = \"\"\"\n",
    "    SELECT a.id AS actor_id, m.id AS movie_id \n",
    "    FROM ACTOR AS a, MOVIE AS m \n",
    "    WHERE m.cast LIKE '% '|| a.name ||' %'\n",
    "   OR m.cast LIKE '% '||a.name||',%'\n",
    "   OR m.cast LIKE '% '||a.name\n",
    "   OR m.cast LIKE a.name||',%';\"\"\"\n",
    "data_actorANDmovie = pd.read_sql(sql_actorANDmovie, connect_one)"
   ]
  },
  {
   "cell_type": "code",
   "execution_count": 14,
   "id": "b6418fca",
   "metadata": {},
   "outputs": [
    {
     "data": {
      "text/plain": [
       "44800"
      ]
     },
     "execution_count": 14,
     "metadata": {},
     "output_type": "execute_result"
    }
   ],
   "source": [
    "data_actorANDmovie.to_sql(\"actorANDmovie\", con=connect_one, if_exists=\"append\", index=False)"
   ]
  },
  {
   "cell_type": "code",
   "execution_count": 20,
   "id": "214170c2",
   "metadata": {},
   "outputs": [
    {
     "data": {
      "text/html": [
       "<div>\n",
       "<style scoped>\n",
       "    .dataframe tbody tr th:only-of-type {\n",
       "        vertical-align: middle;\n",
       "    }\n",
       "\n",
       "    .dataframe tbody tr th {\n",
       "        vertical-align: top;\n",
       "    }\n",
       "\n",
       "    .dataframe thead th {\n",
       "        text-align: right;\n",
       "    }\n",
       "</style>\n",
       "<table border=\"1\" class=\"dataframe\">\n",
       "  <thead>\n",
       "    <tr style=\"text-align: right;\">\n",
       "      <th></th>\n",
       "      <th>actor_id1</th>\n",
       "      <th>actor_id2</th>\n",
       "      <th>collaboration_count</th>\n",
       "    </tr>\n",
       "  </thead>\n",
       "  <tbody>\n",
       "    <tr>\n",
       "      <th>0</th>\n",
       "      <td>5503</td>\n",
       "      <td>27098</td>\n",
       "      <td>15</td>\n",
       "    </tr>\n",
       "    <tr>\n",
       "      <th>1</th>\n",
       "      <td>9109</td>\n",
       "      <td>17473</td>\n",
       "      <td>14</td>\n",
       "    </tr>\n",
       "    <tr>\n",
       "      <th>2</th>\n",
       "      <td>9109</td>\n",
       "      <td>20437</td>\n",
       "      <td>14</td>\n",
       "    </tr>\n",
       "  </tbody>\n",
       "</table>\n",
       "</div>"
      ],
      "text/plain": [
       "   actor_id1  actor_id2  collaboration_count\n",
       "0       5503      27098                   15\n",
       "1       9109      17473                   14\n",
       "2       9109      20437                   14"
      ]
     },
     "execution_count": 20,
     "metadata": {},
     "output_type": "execute_result"
    }
   ],
   "source": [
    "sql = \"\"\"SELECT actor_id1, actor_id2, COUNT(*) AS collaboration_count\n",
    "FROM (\n",
    "    SELECT am1.actor_id AS actor_id1, am2.actor_id AS actor_id2\n",
    "    FROM actorANDmovie am1\n",
    "    JOIN actorANDmovie am2 ON am1.movie_id = am2.movie_id AND am1.actor_id < am2.actor_id\n",
    ") AS collaborations\n",
    "GROUP BY actor_id1, actor_id2\n",
    "ORDER BY collaboration_count DESC\n",
    "LIMIT 3;\"\"\"\n",
    "\n",
    "pd.read_sql(sql, connect_one)"
   ]
  },
  {
   "cell_type": "code",
   "execution_count": null,
   "id": "5c51667c",
   "metadata": {},
   "outputs": [],
   "source": []
  }
 ],
 "metadata": {
  "kernelspec": {
   "display_name": "Python 3 (ipykernel)",
   "language": "python",
   "name": "python3"
  },
  "language_info": {
   "codemirror_mode": {
    "name": "ipython",
    "version": 3
   },
   "file_extension": ".py",
   "mimetype": "text/x-python",
   "name": "python",
   "nbconvert_exporter": "python",
   "pygments_lexer": "ipython3",
   "version": "3.11.4"
  }
 },
 "nbformat": 4,
 "nbformat_minor": 5
}
